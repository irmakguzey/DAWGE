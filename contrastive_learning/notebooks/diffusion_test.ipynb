{
 "cells": [
  {
   "cell_type": "markdown",
   "metadata": {},
   "source": [
    "# Diffusion Test \n",
    "Notebook to test the new diffusion model \n",
    "It should be loading the model, getting random batches from the test dataset and try sampling few next states\n",
    "Both the current and the next state should be plotted with blue and sampled next states should be plotted in green"
   ]
  },
  {
   "cell_type": "code",
   "execution_count": 1,
   "metadata": {},
   "outputs": [],
   "source": [
    "import numpy as np\n",
    "import math\n",
    "import matplotlib.pyplot as plt\n",
    "import matplotlib.patches as patches\n",
    "import os\n",
    "import torch\n",
    "import torch.utils.data as data \n",
    "\n",
    "from collections import OrderedDict\n",
    "from copy import deepcopy\n",
    "from omegaconf import OmegaConf\n",
    "from torchvision import transforms\n",
    "from torch.nn.parallel import DistributedDataParallel as DDP\n",
    "from contrastive_learning.tests.plotting import plot_corners, plot_rvec_tvec, plot_mean_rot\n",
    "from tqdm import tqdm\n",
    "# \n",
    "from contrastive_learning.tests.test_model import load_lin_model, predict_traj_actions, load_diff_model\n",
    "from contrastive_learning.tests.animate_markers import AnimateMarkers\n",
    "from contrastive_learning.tests.animate_rvec_tvec import AnimateRvecTvec\n",
    "from contrastive_learning.datasets.dataloaders import get_dataloaders\n",
    "\n",
    "from contrastive_learning.models.custom_models import LinearInverse, EpsModel\n",
    "from contrastive_learning.datasets.state_dataset import StateDataset\n",
    "from contrastive_learning.tests.plotting import plot_rvec_tvec, plot_corners\n",
    "from contrastive_learning.datasets.dataloaders import get_dataloaders"
   ]
  },
  {
   "cell_type": "markdown",
   "metadata": {},
   "source": [
    "## Load the Model\n",
    "Create the distributed group and load the eps model used for the diffusion"
   ]
  },
  {
   "cell_type": "code",
   "execution_count": 2,
   "metadata": {},
   "outputs": [],
   "source": [
    "# Start the multiprocessing to load the saved models properly\n",
    "os.environ[\"MASTER_ADDR\"] = \"localhost\"\n",
    "os.environ[\"MASTER_PORT\"] = \"29505\"\n",
    "\n",
    "torch.distributed.init_process_group(backend='gloo', rank=0, world_size=1)\n",
    "torch.cuda.set_device(0)"
   ]
  },
  {
   "cell_type": "code",
   "execution_count": 3,
   "metadata": {},
   "outputs": [],
   "source": [
    "# Set the device and out_dir\n",
    "device = torch.device('cuda:0')\n",
    "out_dir = '/home/irmak/Workspace/DAWGE/contrastive_learning/out/2022.08.16/00-48_diffusion_ref_global_fi_5_pt_mean_rot_bs_32_hd_64_lr_0.0001_zd_8'\n",
    "cfg = OmegaConf.load(os.path.join(out_dir, '.hydra/config.yaml'))\n",
    "model_path = os.path.join(out_dir, 'models/eps_model.pt')"
   ]
  },
  {
   "cell_type": "code",
   "execution_count": 4,
   "metadata": {},
   "outputs": [],
   "source": [
    "# Load the eps model\n",
    "eps_model = load_diff_model(cfg, device, model_path)"
   ]
  },
  {
   "cell_type": "code",
   "execution_count": 7,
   "metadata": {},
   "outputs": [],
   "source": [
    "# N_STEPS = cfg.diff_n_steps\n",
    "# N_SAMPLES = 10 # For each state we'll sample 1k different new states"
   ]
  },
  {
   "cell_type": "code",
   "execution_count": 5,
   "metadata": {},
   "outputs": [
    {
     "name": "stdout",
     "output_type": "stream",
     "text": [
      "DATASET POS_REF: global\n",
      "self.action_min: [-0.15000001 -0.30000001], self.action_max: [0.15000001 0.30000001]\n"
     ]
    }
   ],
   "source": [
    "_, test_loader, dataset = get_dataloaders(cfg)\n",
    "batch = next(iter(test_loader))\n",
    "x0, xnext0, a = [b.to(device) for b in batch]"
   ]
  },
  {
   "cell_type": "code",
   "execution_count": 6,
   "metadata": {},
   "outputs": [],
   "source": [
    "class DiffusionTest:\n",
    "    def __init__(self, eps_model, n_steps, n_samples, device):\n",
    "        self.eps_model = eps_model\n",
    "        self.n_steps = n_steps \n",
    "        self.n_samples = n_samples \n",
    "        self.device = device \n",
    "\n",
    "        self.beta = torch.linspace(0.0001, 0.02, n_steps).to(device)\n",
    "        self.alpha = 1. - self.beta\n",
    "        self.alpha_bar = torch.cumprod(self.alpha, dim=0)\n",
    "        self.n_steps = n_steps # Number of steps to noise and denoise the data\n",
    "        self.sigma2 = self.beta\n",
    "\n",
    "    def gather(self, consts: torch.Tensor, t: torch.Tensor):\n",
    "        c = consts.gather(-1, t)\n",
    "        return c.reshape(-1, 1)\n",
    "\n",
    "    def p_sample(self, xt: torch.Tensor, t: torch.Tensor, x0: torch.Tensor, a: torch.Tensor):\n",
    "        eps_theta = self.eps_model(xt, t, x0, a) # Input to this will be complete noise\n",
    "        alpha_bar = self.gather(self.alpha_bar, t)\n",
    "        alpha = self.gather(self.alpha, t)\n",
    "        eps_coef = (1 - alpha) / (1 - alpha_bar) ** .5\n",
    "        mean = 1 / (alpha ** 0.5) * (xt - eps_coef * eps_theta)\n",
    "        var = self.gather(self.sigma2, t) # (1 - self.alpha)\n",
    "\n",
    "        eps = torch.randn(xt.shape, device=xt.device)\n",
    "        return mean + (var ** 5.) * eps\n",
    "\n",
    "    def get_sample(self, curr_x0, curr_a): # curr_x0.shape: (1, pos_dim*2) - so this is only for one element in the batch\n",
    "        xt = torch.randn((curr_x0.shape), device=curr_x0.device)\n",
    "        for t_ in range(self.n_steps):\n",
    "            curr_t = self.n_steps - t_ - 1\n",
    "            t = xt.new_full((xt.shape[0],), curr_t, dtype=torch.long)\n",
    "            xt = self.p_sample(xt, t, curr_x0, curr_a)\n",
    "        \n",
    "        return xt\n",
    "\n",
    "    def get_all_samples(self, curr_x0, curr_a): # curr_x0.shape: (1, pos_dim*2) - this time the output will be concatenated version of xts\n",
    "        pbar = tqdm(total=self.n_samples)\n",
    "        for i in range(self.n_samples):\n",
    "            if i == 0:\n",
    "                xt = self.get_sample(curr_x0, curr_a)\n",
    "            else:\n",
    "                xt = torch.cat((xt, self.get_sample(curr_x0, curr_a)), dim=0)\n",
    "            pbar.update(1)\n",
    "\n",
    "        pbar.close()\n",
    "        return xt\n",
    "\n",
    "    def get_all_samples_for_batch(self, x0, a):\n",
    "        bs = x0.shape[0]\n",
    "        for i in range(bs):\n",
    "            curr_x0, curr_a = x0[i:i+1], a[i:i+1]\n",
    "            if i == 0:\n",
    "                all_xt = torch.unsqueeze(self.get_all_samples(curr_x0, curr_a),0)\n",
    "            else:\n",
    "                all_xt = torch.cat((all_xt, torch.unsqueeze(self.get_all_samples(curr_x0, curr_a),0)), dim=0)\n",
    "\n",
    "        return all_xt\n",
    "    \n",
    "    "
   ]
  },
  {
   "cell_type": "code",
   "execution_count": 11,
   "metadata": {},
   "outputs": [],
   "source": [
    "N_SAMPLES = 50\n",
    "N_STEPS = 50"
   ]
  },
  {
   "cell_type": "code",
   "execution_count": 12,
   "metadata": {},
   "outputs": [
    {
     "name": "stderr",
     "output_type": "stream",
     "text": [
      "100%|██████████| 10/10 [00:00<00:00, 23.84it/s]\n",
      "100%|██████████| 10/10 [00:00<00:00, 22.90it/s]\n",
      "100%|██████████| 10/10 [00:00<00:00, 25.13it/s]\n",
      "100%|██████████| 10/10 [00:00<00:00, 24.49it/s]\n",
      "100%|██████████| 10/10 [00:00<00:00, 24.01it/s]\n",
      "100%|██████████| 10/10 [00:00<00:00, 21.96it/s]\n",
      "100%|██████████| 10/10 [00:00<00:00, 24.32it/s]\n",
      "100%|██████████| 10/10 [00:00<00:00, 24.70it/s]\n",
      "100%|██████████| 10/10 [00:00<00:00, 25.09it/s]\n",
      "100%|██████████| 10/10 [00:00<00:00, 25.16it/s]\n",
      "100%|██████████| 10/10 [00:00<00:00, 25.18it/s]\n",
      "100%|██████████| 10/10 [00:00<00:00, 19.64it/s]\n",
      "100%|██████████| 10/10 [00:00<00:00, 25.10it/s]\n",
      "100%|██████████| 10/10 [00:00<00:00, 24.17it/s]\n",
      "100%|██████████| 10/10 [00:00<00:00, 24.01it/s]\n",
      "100%|██████████| 10/10 [00:00<00:00, 24.96it/s]\n",
      "100%|██████████| 10/10 [00:00<00:00, 25.20it/s]\n",
      "100%|██████████| 10/10 [00:00<00:00, 25.16it/s]\n",
      "100%|██████████| 10/10 [00:00<00:00, 25.32it/s]\n",
      "100%|██████████| 10/10 [00:00<00:00, 25.27it/s]\n",
      "100%|██████████| 10/10 [00:00<00:00, 25.13it/s]\n",
      "100%|██████████| 10/10 [00:00<00:00, 25.14it/s]\n",
      "100%|██████████| 10/10 [00:00<00:00, 25.20it/s]\n",
      "100%|██████████| 10/10 [00:00<00:00, 25.20it/s]\n",
      "100%|██████████| 10/10 [00:00<00:00, 25.21it/s]\n",
      "100%|██████████| 10/10 [00:00<00:00, 25.12it/s]\n",
      "100%|██████████| 10/10 [00:00<00:00, 25.14it/s]\n",
      "100%|██████████| 10/10 [00:00<00:00, 24.51it/s]\n",
      "100%|██████████| 10/10 [00:00<00:00, 25.78it/s]\n",
      "100%|██████████| 10/10 [00:00<00:00, 25.01it/s]\n",
      "100%|██████████| 10/10 [00:00<00:00, 25.18it/s]\n",
      "100%|██████████| 10/10 [00:00<00:00, 25.31it/s]\n"
     ]
    }
   ],
   "source": [
    "diff_test = DiffusionTest(eps_model, n_steps=N_STEPS, n_samples=N_SAMPLES, device=device)\n",
    "all_xt = diff_test.get_all_samples_for_batch(x0, a)"
   ]
  },
  {
   "cell_type": "code",
   "execution_count": 13,
   "metadata": {},
   "outputs": [
    {
     "name": "stdout",
     "output_type": "stream",
     "text": [
      "tensor([[0.2103, 0.4921, 0.4897, 0.1805, 0.6293, 0.3355],\n",
      "        [0.2098, 0.4931, 0.4873, 0.1788, 0.6281, 0.3448],\n",
      "        [0.2110, 0.4899, 0.4816, 0.1806, 0.6217, 0.3456],\n",
      "        [0.2088, 0.4932, 0.4899, 0.1816, 0.6287, 0.3360],\n",
      "        [0.2080, 0.4933, 0.4857, 0.1817, 0.6255, 0.3473],\n",
      "        [0.2073, 0.4931, 0.4856, 0.1771, 0.6263, 0.3664],\n",
      "        [0.2042, 0.4935, 0.4841, 0.1796, 0.6238, 0.3843],\n",
      "        [0.2157, 0.4871, 0.4989, 0.1894, 0.6358, 0.2511],\n",
      "        [0.2141, 0.4915, 0.4820, 0.1830, 0.6291, 0.3146],\n",
      "        [0.2101, 0.4930, 0.4889, 0.1845, 0.6258, 0.3280]], device='cuda:0',\n",
      "       grad_fn=<SliceBackward0>)\n"
     ]
    }
   ],
   "source": [
    "print(all_xt[0,:])"
   ]
  },
  {
   "cell_type": "code",
   "execution_count": 14,
   "metadata": {},
   "outputs": [
    {
     "name": "stderr",
     "output_type": "stream",
     "text": [
      "100%|██████████| 32/32 [00:01<00:00, 26.17it/s]\n"
     ]
    }
   ],
   "source": [
    "\n",
    "# Plot the sampled states\n",
    "bs = x0.shape[0]\n",
    "pos_dim = int(x0.shape[1] / 2)\n",
    "if pos_dim == 8: # Pos type is corners\n",
    "    plotting_fn = plot_corners\n",
    "    denormalize_fn = dataset.denormalize_corner\n",
    "elif pos_dim == 6: # Pos type is rotational and translational vectors\n",
    "    plotting_fn = plot_rvec_tvec\n",
    "    denormalize_fn = dataset.denormalize_pos_rvec_tvec # NOTE: This will def cause some problems\n",
    "elif pos_dim == 3: # Pos type is just the mean and rotation of the box\n",
    "    plotting_fn = plot_mean_rot\n",
    "    denormalize_fn = dataset.denormalize_mean_rot\n",
    "\n",
    "ncols = 10\n",
    "nrows = math.ceil(bs / ncols)\n",
    "fig, axs = plt.subplots(figsize=(10*ncols, 10*nrows), nrows=nrows, ncols=ncols)\n",
    "\n",
    "pbar = tqdm(total=bs)\n",
    "# Denormalize all the positions\n",
    "for i in range(bs):\n",
    "    x0_curr = denormalize_fn(x0[i].cpu().detach().numpy())\n",
    "    xnext0_curr = denormalize_fn(xnext0[i].cpu().detach().numpy())\n",
    "\n",
    "    # Plot the denormalized corners\n",
    "    axs_row = int(i / ncols)\n",
    "    axs_col = int(i % ncols)\n",
    "    axs[axs_row, axs_col].set_title(\"Data {} in the batch\".format(i))\n",
    "    _, frame_axis = plotting_fn(axs[axs_row, axs_col], x0_curr, color_scheme=1)\n",
    "    _, frame_axis = plotting_fn(axs[axs_row, axs_col], xnext0_curr, use_frame_axis=True, frame_axis=frame_axis, color_scheme=1)\n",
    "\n",
    "    for j in range(N_SAMPLES):\n",
    "        xt_curr = denormalize_fn(all_xt[i,j].cpu().detach().numpy())\n",
    "        _, frame_axis = plotting_fn(axs[axs_row, axs_col], xt_curr, use_frame_axis=True, frame_axis=frame_axis, color_scheme=2)\n",
    "\n",
    "    pbar.update(1)\n",
    "    \n",
    "# Save the saving plot\n",
    "pbar.close()\n",
    "exp_name = '{}_{}'.format(out_dir.split('/')[-2], out_dir.split('/')[-1].split('_')[0])\n",
    "plt.savefig('diff_samples_{}_steps_{}_samples_{}.png'.format(exp_name, N_STEPS, N_SAMPLES))\n"
   ]
  },
  {
   "cell_type": "code",
   "execution_count": null,
   "metadata": {},
   "outputs": [],
   "source": []
  }
 ],
 "metadata": {
  "kernelspec": {
   "display_name": "Python 3.9.13 ('dawge')",
   "language": "python",
   "name": "python3"
  },
  "language_info": {
   "codemirror_mode": {
    "name": "ipython",
    "version": 3
   },
   "file_extension": ".py",
   "mimetype": "text/x-python",
   "name": "python",
   "nbconvert_exporter": "python",
   "pygments_lexer": "ipython3",
   "version": "3.9.13"
  },
  "orig_nbformat": 4,
  "vscode": {
   "interpreter": {
    "hash": "c54392799b1ea06a5d9c28f64f7b4d3d25501cf92ff871f812783b9868cdd9b5"
   }
  }
 },
 "nbformat": 4,
 "nbformat_minor": 2
}
