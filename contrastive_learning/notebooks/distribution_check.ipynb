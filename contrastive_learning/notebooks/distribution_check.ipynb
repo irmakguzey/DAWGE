{
 "cells": [
  {
   "cell_type": "code",
   "execution_count": 1,
   "id": "c2757238-44aa-47b8-af21-721aee0d16b5",
   "metadata": {},
   "outputs": [],
   "source": [
    "import numpy as np\n",
    "import math\n",
    "import matplotlib.pyplot as plt\n",
    "import matplotlib.patches as patches\n",
    "import os\n",
    "import torch\n",
    "import torch.utils.data as data \n",
    "\n",
    "from copy import deepcopy\n",
    "from cv2 import aruco\n",
    "from omegaconf import OmegaConf\n",
    "from torch.nn.parallel import DistributedDataParallel as DDP\n",
    "from tqdm import tqdm\n",
    "\n",
    "# Custom imports\n",
    "from contrastive_learning.datasets.state_dataset import StateDataset\n",
    "from contrastive_learning.tests.plotting import plot_corners, plot_rvec_tvec\n"
   ]
  },
  {
   "cell_type": "code",
   "execution_count": 2,
   "id": "78c654de-b57d-400b-a7fa-2a7013ccaf5e",
   "metadata": {},
   "outputs": [],
   "source": [
    "# Script to check the distribution of all the states in given dataset"
   ]
  },
  {
   "cell_type": "code",
   "execution_count": 3,
   "id": "6ba8ef92-7d43-40d8-9e82-5d23a81e4e39",
   "metadata": {},
   "outputs": [],
   "source": [
    "# Set the needed variables for the mock dataset to retrieve data\n",
    "cfg = OmegaConf.create()\n",
    "cfg.data_dir = '/home/irmak/Workspace/DAWGE/src/dawge_planner/data/box_orientation_1_demos/test_demos'\n",
    "cfg.pos_ref = 'global' \n",
    "cfg.pos_type = 'corners'\n",
    "cfg.pos_dim = 8"
   ]
  },
  {
   "cell_type": "code",
   "execution_count": 4,
   "id": "33b11604-1a9b-4530-a493-f97be91779aa",
   "metadata": {},
   "outputs": [
    {
     "name": "stdout",
     "output_type": "stream",
     "text": [
      "{'data_dir': '/home/irmak/Workspace/DAWGE/src/dawge_planner/data/box_orientation_1_demos/train_demos', 'pos_ref': 'global', 'pos_type': 'corners', 'pos_dim': 8}\n"
     ]
    }
   ],
   "source": [
    "print(cfg)"
   ]
  },
  {
   "cell_type": "code",
   "execution_count": 5,
   "id": "f2b82d9e-e91a-4b1e-a4cd-866eea364466",
   "metadata": {},
   "outputs": [
    {
     "name": "stdout",
     "output_type": "stream",
     "text": [
      "DATASET POS_REF: global\n",
      "len(dataset): 4350\n",
      "self.action_min: [-0.15000001 -0.30000001], self.action_max: [0.15000001 0.30000001]\n"
     ]
    }
   ],
   "source": [
    "dataset = StateDataset(cfg)\n",
    "data_loader = data.DataLoader(dataset, batch_size=1, shuffle=False, num_workers=4)"
   ]
  },
  {
   "cell_type": "code",
   "execution_count": 6,
   "id": "624574e4-3c0a-471d-aad4-9ac1ee4817fa",
   "metadata": {},
   "outputs": [],
   "source": [
    "# Method to dump all the positions to test_demos\n",
    "def dump_all_pos(bs, dataset, data_loader):\n",
    "    pbar = tqdm(total=len(data_loader))\n",
    "    all_curr_pos = np.zeros((len(dataset), cfg.pos_dim*2))\n",
    "    for i,batch in enumerate(data_loader):\n",
    "        curr_pos, _, _ = [b for b in batch] # These are normalized\n",
    "        all_curr_pos[i*bs:(i+1)*bs, :] = curr_pos.detach().numpy()\n",
    "        pbar.update(1)\n",
    "\n",
    "    with open(os.path.join(cfg.data_dir, 'all_curr_pos.npy'), 'wb') as f:\n",
    "        np.save(f, all_curr_pos)\n",
    "        \n",
    "    print('All positions saved to : {}'.format(os.path.join(cfg.data_dir, 'all_curr_pos.npy')))"
   ]
  },
  {
   "cell_type": "code",
   "execution_count": 7,
   "id": "30dd853f-02c1-4402-b55f-19cd2c07be13",
   "metadata": {},
   "outputs": [
    {
     "name": "stderr",
     "output_type": "stream",
     "text": [
      "100%|████████████████████████████████████████████████████████████████████████████████████████████████████████████████████████████████████████████████████████████████████████| 4350/4350 [00:03<00:00, 1347.24it/s]"
     ]
    },
    {
     "name": "stdout",
     "output_type": "stream",
     "text": [
      "All positions saved to : /home/irmak/Workspace/DAWGE/src/dawge_planner/data/box_orientation_1_demos/train_demos/all_curr_pos.npy\n"
     ]
    },
    {
     "name": "stderr",
     "output_type": "stream",
     "text": [
      "\n"
     ]
    }
   ],
   "source": [
    "dump_all_pos(bs=1, dataset=dataset, data_loader=data_loader)"
   ]
  },
  {
   "cell_type": "code",
   "execution_count": 8,
   "id": "6b18afb6-bee7-4196-90cf-b7e406d0af28",
   "metadata": {},
   "outputs": [],
   "source": [
    "# Method to find the average MSE to the closest k neighbours of curr_pos to all_curr_pos.npy\n",
    "def get_mse_to_dist(cfg, curr_pos, k=10):\n",
    "    with open(os.path.join(cfg.data_dir, 'all_curr_pos.npy'), 'rb') as f:\n",
    "        all_curr_pos = np.load(f)\n",
    "\n",
    "    dist = np.linalg.norm(all_curr_pos - curr_pos, axis=1)\n",
    "    dist.sort()\n",
    "\n",
    "    return sum(dist[:k])\n"
   ]
  },
  {
   "cell_type": "code",
   "execution_count": 9,
   "id": "f53f8014-5674-490e-a502-1ef1567bec00",
   "metadata": {},
   "outputs": [],
   "source": [
    "def get_mse_for_all(cfg):\n",
    "    # It will traverse through the all_curr_pos.npy and find the mse distance for all demos\n",
    "    with open(os.path.join(cfg.data_dir, 'all_curr_pos.npy'), 'rb') as f:\n",
    "        all_curr_pos = np.load(f)\n",
    "        \n",
    "    print('all_curr_pos: {}'.format(all_curr_pos))\n",
    "        \n",
    "    all_mses = []\n",
    "    for curr_pos in all_curr_pos:\n",
    "        all_mses.append(get_mse_to_dist(cfg, curr_pos, k=10))\n",
    "        \n",
    "    return all_mses"
   ]
  },
  {
   "cell_type": "code",
   "execution_count": 10,
   "id": "5045b55a-f3f2-4e46-a7fb-5f4d82b01cdd",
   "metadata": {},
   "outputs": [
    {
     "name": "stdout",
     "output_type": "stream",
     "text": [
      "all_curr_pos: [[0.18485342 0.52867132 0.18648209 ... 0.83636361 0.08713355 0.84475523]\n",
      " [0.18485342 0.52867132 0.18648209 ... 0.82517481 0.08387622 0.83356643]\n",
      " [0.18485342 0.52867132 0.18648209 ... 0.79160839 0.08306189 0.79160839]\n",
      " ...\n",
      " [0.29234529 0.21958043 0.30700326 ... 0.30349651 0.25977197 0.29090908]\n",
      " [0.29885992 0.21398601 0.31351793 ... 0.29650348 0.26791531 0.28251749]\n",
      " [0.30537459 0.20839161 0.31921825 ... 0.2881119  0.27605864 0.27412587]]\n"
     ]
    }
   ],
   "source": [
    "all_mses = get_mse_for_all(cfg)"
   ]
  },
  {
   "cell_type": "code",
   "execution_count": 11,
   "id": "2a4e8336-0758-4170-93af-1c5283c8172c",
   "metadata": {},
   "outputs": [],
   "source": [
    "plt.plot(all_mses)\n",
    "plt.ylabel(\"Normalized Norm Dist\")\n",
    "plt.xlabel(\"Frame ID\")\n",
    "plt.savefig(os.path.join(cfg.data_dir, 'all_mses.png'))"
   ]
  },
  {
   "cell_type": "code",
   "execution_count": null,
   "id": "bf4c9f10-35c0-4814-954a-8b9460b1b2ff",
   "metadata": {},
   "outputs": [],
   "source": [
    "# Plot this value for all the demos"
   ]
  }
 ],
 "metadata": {
  "kernelspec": {
   "display_name": "Python 3 (ipykernel)",
   "language": "python",
   "name": "python3"
  },
  "language_info": {
   "codemirror_mode": {
    "name": "ipython",
    "version": 3
   },
   "file_extension": ".py",
   "mimetype": "text/x-python",
   "name": "python",
   "nbconvert_exporter": "python",
   "pygments_lexer": "ipython3",
   "version": "3.9.13"
  }
 },
 "nbformat": 4,
 "nbformat_minor": 5
}
