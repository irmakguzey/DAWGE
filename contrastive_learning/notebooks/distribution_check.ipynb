{
 "cells": [
  {
   "cell_type": "code",
   "execution_count": 1,
   "id": "c2757238-44aa-47b8-af21-721aee0d16b5",
   "metadata": {},
   "outputs": [],
   "source": [
    "import numpy as np\n",
    "import math\n",
    "import matplotlib.pyplot as plt\n",
    "import matplotlib.patches as patches\n",
    "import os\n",
    "import torch\n",
    "import torch.utils.data as data \n",
    "\n",
    "from copy import deepcopy\n",
    "from cv2 import aruco\n",
    "from omegaconf import OmegaConf\n",
    "from torch.nn.parallel import DistributedDataParallel as DDP\n",
    "from tqdm import tqdm\n",
    "\n",
    "# Custom imports\n",
    "from contrastive_learning.datasets.state_dataset import StateDataset\n",
    "from contrastive_learning.tests.plotting import plot_corners, plot_rvec_tvec\n"
   ]
  },
  {
   "cell_type": "code",
   "execution_count": 2,
   "id": "78c654de-b57d-400b-a7fa-2a7013ccaf5e",
   "metadata": {},
   "outputs": [],
   "source": [
    "# Script to check the distribution of all the states in given dataset"
   ]
  },
  {
   "cell_type": "code",
   "execution_count": 37,
   "id": "6ba8ef92-7d43-40d8-9e82-5d23a81e4e39",
   "metadata": {},
   "outputs": [],
   "source": [
    "# Set the needed variables for the mock dataset to retrieve data\n",
    "cfg = OmegaConf.create()\n",
    "cfg.data_dir = '/home/irmak/Workspace/DAWGE/src/dawge_planner/data/box_orientation_2_demos/test_demos'\n",
    "cfg.pos_ref = 'global' \n",
    "cfg.pos_type = 'corners'\n",
    "cfg.pos_dim = 8"
   ]
  },
  {
   "cell_type": "code",
   "execution_count": 38,
   "id": "33b11604-1a9b-4530-a493-f97be91779aa",
   "metadata": {},
   "outputs": [
    {
     "name": "stdout",
     "output_type": "stream",
     "text": [
      "{'data_dir': '/home/irmak/Workspace/DAWGE/src/dawge_planner/data/box_orientation_2_demos/test_demos', 'pos_ref': 'global', 'pos_type': 'corners', 'pos_dim': 8}\n"
     ]
    }
   ],
   "source": [
    "print(cfg)"
   ]
  },
  {
   "cell_type": "code",
   "execution_count": 39,
   "id": "f2b82d9e-e91a-4b1e-a4cd-866eea364466",
   "metadata": {},
   "outputs": [
    {
     "name": "stdout",
     "output_type": "stream",
     "text": [
      "DATASET POS_REF: global\n",
      "len(dataset): 802\n",
      "self.action_min: [ 0.         -0.30000001], self.action_max: [0.15000001 0.30000001]\n"
     ]
    }
   ],
   "source": [
    "dataset = StateDataset(cfg)\n",
    "data_loader = data.DataLoader(dataset, batch_size=1, shuffle=False, num_workers=4)"
   ]
  },
  {
   "cell_type": "code",
   "execution_count": 40,
   "id": "624574e4-3c0a-471d-aad4-9ac1ee4817fa",
   "metadata": {},
   "outputs": [],
   "source": [
    "# Method to dump all the positions to test_demos\n",
    "def dump_all_pos(bs, dataset, data_loader):\n",
    "    pbar = tqdm(total=len(data_loader))\n",
    "    all_curr_pos = np.zeros((len(dataset), cfg.pos_dim*2))\n",
    "    for i,batch in enumerate(data_loader):\n",
    "        curr_pos, _, _ = [b for b in batch] # These are normalized\n",
    "        all_curr_pos[i*bs:(i+1)*bs, :] = curr_pos.detach().numpy()\n",
    "        pbar.update(1)\n",
    "\n",
    "    with open(os.path.join(cfg.data_dir, 'all_curr_pos.npy'), 'wb') as f:\n",
    "        np.save(f, all_curr_pos)\n",
    "        \n",
    "    print('All positions saved to : {}'.format(os.path.join(cfg.data_dir, 'all_curr_pos.npy')))"
   ]
  },
  {
   "cell_type": "code",
   "execution_count": 41,
   "id": "30dd853f-02c1-4402-b55f-19cd2c07be13",
   "metadata": {},
   "outputs": [
    {
     "name": "stderr",
     "output_type": "stream",
     "text": [
      "100%|█████████████████████████████████████████████████████████████████████████████| 802/802 [00:00<00:00, 1210.80it/s]"
     ]
    },
    {
     "name": "stdout",
     "output_type": "stream",
     "text": [
      "All positions saved to : /home/irmak/Workspace/DAWGE/src/dawge_planner/data/box_orientation_2_demos/test_demos/all_curr_pos.npy\n"
     ]
    },
    {
     "name": "stderr",
     "output_type": "stream",
     "text": [
      "\n"
     ]
    }
   ],
   "source": [
    "dump_all_pos(bs=1, dataset=dataset, data_loader=data_loader)"
   ]
  },
  {
   "cell_type": "code",
   "execution_count": 42,
   "id": "6b18afb6-bee7-4196-90cf-b7e406d0af28",
   "metadata": {},
   "outputs": [],
   "source": [
    "# Method to find the average MSE to the closest k neighbours of curr_pos to all_curr_pos.npy\n",
    "def get_mse_to_dist(cfg, curr_pos, k=10):\n",
    "    with open(os.path.join(cfg.data_dir, 'all_curr_pos.npy'), 'rb') as f:\n",
    "        all_curr_pos = np.load(f)\n",
    "\n",
    "    dist = np.linalg.norm(all_curr_pos - curr_pos, axis=1)\n",
    "    dist.sort()\n",
    "\n",
    "    return sum(dist[:k])\n"
   ]
  },
  {
   "cell_type": "code",
   "execution_count": 43,
   "id": "f53f8014-5674-490e-a502-1ef1567bec00",
   "metadata": {},
   "outputs": [],
   "source": [
    "def get_mse_for_all(cfg):\n",
    "    # It will traverse through the all_curr_pos.npy and find the mse distance for all demos\n",
    "    with open(os.path.join(cfg.data_dir, 'all_curr_pos.npy'), 'rb') as f:\n",
    "        all_curr_pos = np.load(f)\n",
    "        \n",
    "    print('all_curr_pos: {}'.format(all_curr_pos))\n",
    "        \n",
    "    all_mses = []\n",
    "    for curr_pos in all_curr_pos:\n",
    "        all_mses.append(get_mse_to_dist(cfg, curr_pos, k=10))\n",
    "        \n",
    "    return all_mses"
   ]
  },
  {
   "cell_type": "code",
   "execution_count": 44,
   "id": "5045b55a-f3f2-4e46-a7fb-5f4d82b01cdd",
   "metadata": {},
   "outputs": [
    {
     "name": "stdout",
     "output_type": "stream",
     "text": [
      "all_curr_pos: [[1.78109854e-01 4.73011374e-01 1.86591282e-01 ... 9.17613626e-01\n",
      "  3.28352183e-01 9.37500000e-01]\n",
      " [1.78109854e-01 4.73011374e-01 1.85379639e-01 ... 9.20454562e-01\n",
      "  3.22294027e-01 9.38920438e-01]\n",
      " [1.78109854e-01 4.73011374e-01 1.86591282e-01 ... 9.20454562e-01\n",
      "  3.05331171e-01 9.43181813e-01]\n",
      " ...\n",
      " [8.44507277e-01 4.26136376e-03 8.73586416e-01 ... 3.55113633e-02\n",
      "  7.80290782e-01 1.98863633e-02]\n",
      " [8.52988720e-01 2.84090918e-03 8.82067859e-01 ... 3.32386382e-02\n",
      "  7.88529873e-01 1.76136363e-02]\n",
      " [8.63287568e-01 7.10227294e-04 8.92366707e-01 ... 3.09659094e-02\n",
      "  7.96768963e-01 1.53409094e-02]]\n"
     ]
    }
   ],
   "source": [
    "all_mses = get_mse_for_all(cfg)"
   ]
  },
  {
   "cell_type": "code",
   "execution_count": 45,
   "id": "2a4e8336-0758-4170-93af-1c5283c8172c",
   "metadata": {},
   "outputs": [],
   "source": [
    "plt.plot(all_mses)\n",
    "plt.ylabel(\"Normalized Norm Dist\")\n",
    "plt.xlabel(\"Frame ID\")\n",
    "plt.savefig(os.path.join(cfg.data_dir, 'all_mses.png'))"
   ]
  },
  {
   "cell_type": "code",
   "execution_count": null,
   "id": "bf4c9f10-35c0-4814-954a-8b9460b1b2ff",
   "metadata": {},
   "outputs": [],
   "source": [
    "# Plot this value for all the demos"
   ]
  }
 ],
 "metadata": {
  "kernelspec": {
   "display_name": "Python 3 (ipykernel)",
   "language": "python",
   "name": "python3"
  },
  "language_info": {
   "codemirror_mode": {
    "name": "ipython",
    "version": 3
   },
   "file_extension": ".py",
   "mimetype": "text/x-python",
   "name": "python",
   "nbconvert_exporter": "python",
   "pygments_lexer": "ipython3",
   "version": "3.9.13"
  }
 },
 "nbformat": 4,
 "nbformat_minor": 5
}
