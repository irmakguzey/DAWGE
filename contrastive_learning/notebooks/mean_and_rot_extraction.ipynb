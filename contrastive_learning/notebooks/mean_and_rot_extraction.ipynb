{
 "cells": [
  {
   "cell_type": "markdown",
   "metadata": {},
   "source": [
    "# Mean and Rotation Extraction Notebook\n",
    "This notebook will get mean and rotation of each box\n",
    "And will use them as the state\n"
   ]
  },
  {
   "cell_type": "code",
   "execution_count": 16,
   "metadata": {},
   "outputs": [],
   "source": [
    "import cv2\n",
    "import glob\n",
    "import numpy as np\n",
    "import math\n",
    "import os\n",
    "import pickle\n",
    "\n",
    "from cv2 import aruco\n",
    "from tqdm import tqdm\n",
    "\n",
    "from unitree_legged_msgs.msg import HighCmd\n",
    "\n",
    "from contrastive_learning.tests.animate_markers import AnimateMarkers\n",
    "from contrastive_learning.tests.animate_rvec_tvec import AnimateRvecTvec\n",
    "from contrastive_learning.datasets.preprocess import get_rvec_tvec, dump_rvec_tvec, dump_pos_corners\n",
    "from contrastive_learning.tests.plotting import plot_actions\n",
    "\n",
    "CAMERA_INTRINSICS = np.array([[612.82019043,   0.        , 322.14050293],\n",
    "                              [  0.        , 611.48303223, 247.9083252 ],\n",
    "                              [  0.        ,   0.        ,   1.        ]])"
   ]
  },
  {
   "cell_type": "markdown",
   "metadata": {},
   "source": [
    "## Get the data and find mean and rotation\n",
    "Following cells will get the dumped corners and find the mean and the rotation of each box. All of this will be added to `preprocess.py` script to be used in actual training framework."
   ]
  },
  {
   "cell_type": "code",
   "execution_count": 3,
   "metadata": {},
   "outputs": [],
   "source": [
    "def get_smth_corners(root):\n",
    "    with open(os.path.join(root, 'smoothened_corners.npy'), 'rb') as f:\n",
    "        smth_corners = np.load(f)\n",
    "\n",
    "    return smth_corners"
   ]
  },
  {
   "cell_type": "code",
   "execution_count": 4,
   "metadata": {},
   "outputs": [],
   "source": [
    "def get_roots(data_root):\n",
    "    data_dirs = glob.glob(f'{data_root}/*')\n",
    "    roots = []\n",
    "    for root in data_dirs:\n",
    "        if os.path.isdir(root):\n",
    "            roots.append(root)\n",
    "    roots = sorted(roots)\n",
    "    print('roots: {}'.format(roots))\n",
    "    return roots"
   ]
  },
  {
   "cell_type": "code",
   "execution_count": 5,
   "metadata": {},
   "outputs": [
    {
     "name": "stdout",
     "output_type": "stream",
     "text": [
      "roots: ['/home/irmak/Workspace/DAWGE/src/dawge_planner/data/box_orientation_2_demos/train_demos/box_marker_10', '/home/irmak/Workspace/DAWGE/src/dawge_planner/data/box_orientation_2_demos/train_demos/box_marker_12', '/home/irmak/Workspace/DAWGE/src/dawge_planner/data/box_orientation_2_demos/train_demos/box_marker_13', '/home/irmak/Workspace/DAWGE/src/dawge_planner/data/box_orientation_2_demos/train_demos/box_marker_14', '/home/irmak/Workspace/DAWGE/src/dawge_planner/data/box_orientation_2_demos/train_demos/box_marker_16', '/home/irmak/Workspace/DAWGE/src/dawge_planner/data/box_orientation_2_demos/train_demos/box_marker_18', '/home/irmak/Workspace/DAWGE/src/dawge_planner/data/box_orientation_2_demos/train_demos/box_marker_2', '/home/irmak/Workspace/DAWGE/src/dawge_planner/data/box_orientation_2_demos/train_demos/box_marker_20', '/home/irmak/Workspace/DAWGE/src/dawge_planner/data/box_orientation_2_demos/train_demos/box_marker_22', '/home/irmak/Workspace/DAWGE/src/dawge_planner/data/box_orientation_2_demos/train_demos/box_marker_23', '/home/irmak/Workspace/DAWGE/src/dawge_planner/data/box_orientation_2_demos/train_demos/box_marker_26', '/home/irmak/Workspace/DAWGE/src/dawge_planner/data/box_orientation_2_demos/train_demos/box_marker_28', '/home/irmak/Workspace/DAWGE/src/dawge_planner/data/box_orientation_2_demos/train_demos/box_marker_3', '/home/irmak/Workspace/DAWGE/src/dawge_planner/data/box_orientation_2_demos/train_demos/box_marker_31', '/home/irmak/Workspace/DAWGE/src/dawge_planner/data/box_orientation_2_demos/train_demos/box_marker_32', '/home/irmak/Workspace/DAWGE/src/dawge_planner/data/box_orientation_2_demos/train_demos/box_marker_34', '/home/irmak/Workspace/DAWGE/src/dawge_planner/data/box_orientation_2_demos/train_demos/box_marker_36', '/home/irmak/Workspace/DAWGE/src/dawge_planner/data/box_orientation_2_demos/train_demos/box_marker_37', '/home/irmak/Workspace/DAWGE/src/dawge_planner/data/box_orientation_2_demos/train_demos/box_marker_39', '/home/irmak/Workspace/DAWGE/src/dawge_planner/data/box_orientation_2_demos/train_demos/box_marker_5', '/home/irmak/Workspace/DAWGE/src/dawge_planner/data/box_orientation_2_demos/train_demos/box_marker_6', '/home/irmak/Workspace/DAWGE/src/dawge_planner/data/box_orientation_2_demos/train_demos/box_marker_8', '/home/irmak/Workspace/DAWGE/src/dawge_planner/data/box_orientation_2_demos/train_demos/box_marker_move_12', '/home/irmak/Workspace/DAWGE/src/dawge_planner/data/box_orientation_2_demos/train_demos/box_marker_move_13', '/home/irmak/Workspace/DAWGE/src/dawge_planner/data/box_orientation_2_demos/train_demos/box_marker_move_14', '/home/irmak/Workspace/DAWGE/src/dawge_planner/data/box_orientation_2_demos/train_demos/box_marker_move_18', '/home/irmak/Workspace/DAWGE/src/dawge_planner/data/box_orientation_2_demos/train_demos/box_marker_move_19', '/home/irmak/Workspace/DAWGE/src/dawge_planner/data/box_orientation_2_demos/train_demos/box_marker_move_22', '/home/irmak/Workspace/DAWGE/src/dawge_planner/data/box_orientation_2_demos/train_demos/box_marker_move_23', '/home/irmak/Workspace/DAWGE/src/dawge_planner/data/box_orientation_2_demos/train_demos/box_marker_move_28', '/home/irmak/Workspace/DAWGE/src/dawge_planner/data/box_orientation_2_demos/train_demos/box_marker_move_30', '/home/irmak/Workspace/DAWGE/src/dawge_planner/data/box_orientation_2_demos/train_demos/box_marker_move_33', '/home/irmak/Workspace/DAWGE/src/dawge_planner/data/box_orientation_2_demos/train_demos/box_marker_move_36', '/home/irmak/Workspace/DAWGE/src/dawge_planner/data/box_orientation_2_demos/train_demos/box_marker_move_39', '/home/irmak/Workspace/DAWGE/src/dawge_planner/data/box_orientation_2_demos/train_demos/box_marker_move_40']\n"
     ]
    }
   ],
   "source": [
    "roots = get_roots(\n",
    "    data_root='/home/irmak/Workspace/DAWGE/src/dawge_planner/data/box_orientation_2_demos/train_demos/'\n",
    ")"
   ]
  },
  {
   "cell_type": "code",
   "execution_count": 6,
   "metadata": {},
   "outputs": [],
   "source": [
    "smth_corners = get_smth_corners(root=roots[0])"
   ]
  },
  {
   "cell_type": "code",
   "execution_count": 7,
   "metadata": {},
   "outputs": [],
   "source": [
    "def get_mean_and_rot(corner): # corner (4,2)\n",
    "    mean = np.mean(corner, axis=0)\n",
    "    diff = corner[0] - corner[1] # Just get two points\n",
    "    rot = np.arctan2(diff[0], diff[1])\n",
    "    mean_rot = np.concatenate((mean, [rot]), axis=-1)\n",
    "    return mean_rot\n"
   ]
  },
  {
   "cell_type": "code",
   "execution_count": 8,
   "metadata": {},
   "outputs": [],
   "source": [
    "\n",
    "def dump_pos_mean_rot(root, frame_interval=1):\n",
    "    with open(os.path.join(root, 'pos_corners_fi_{}.pickle'.format(frame_interval)), 'rb') as f:\n",
    "        pos_corners = pickle.load(f)\n",
    "\n",
    "    pos_mean_rot = [] # Will have [mean_box_x, mean_box_y, box_rot, mean_dog_x, mean_dog_y, dog_rot]\n",
    "    # Get the mean of each corner and find the rotation of the box\n",
    "    for i in range(len(pos_corners)):\n",
    "        curr_box, curr_dog = get_mean_and_rot(pos_corners[i][0][:4]), get_mean_and_rot(pos_corners[i][0][4:])\n",
    "        next_box, next_dog = get_mean_and_rot(pos_corners[i][1][:4]), get_mean_and_rot(pos_corners[i][1][4:])\n",
    "        action = pos_corners[i][2]\n",
    "\n",
    "        pos_mean_rot.append((\n",
    "            np.concatenate((curr_box, curr_dog)),\n",
    "            np.concatenate((next_box, next_dog)),\n",
    "            action\n",
    "        ))\n",
    "    \n",
    "    with open(os.path.join(root, f'pos_mean_rot_fi_{frame_interval}.pickle'), 'wb') as f:\n",
    "        pickle.dump(pos_mean_rot)\n",
    "\n",
    "    return pos_mean_rot\n"
   ]
  },
  {
   "cell_type": "code",
   "execution_count": 9,
   "metadata": {},
   "outputs": [],
   "source": [
    "pos_mean_rot = dump_pos_mean_rot(roots[0])"
   ]
  },
  {
   "cell_type": "markdown",
   "metadata": {},
   "source": [
    "## Plot the extracted data \n",
    "Below will be the code to extract this new state representation.\n",
    "All of this plotting will be added to `plotting.py` script."
   ]
  },
  {
   "cell_type": "code",
   "execution_count": 17,
   "metadata": {},
   "outputs": [],
   "source": [
    "import math \n",
    "import matplotlib.pyplot as plt"
   ]
  },
  {
   "cell_type": "code",
   "execution_count": 47,
   "metadata": {},
   "outputs": [],
   "source": [
    "from typing import Tuple\n",
    "\n",
    "\n",
    "def plot_mean_rot(ax, curr_pos, use_img=False, img=None, use_frame_axis=False, frame_axis=None, plot_action=False, actions=None, color_scheme=1):\n",
    "    # actions: [action, pred_action]\n",
    "    # curr_pos.shape: (6) [box_mean_x, box_mean_y, box_rot, dog_mean_x, dog_mean_y, dog_rot]\n",
    "\n",
    "    img_shape = (720, 1280, 3)\n",
    "    blank_image = np.ones(img_shape, np.uint8) * 255\n",
    "    if use_img == False: # use img is when two plots are drawn on top of each other\n",
    "        img = ax.imshow(blank_image.copy())\n",
    "\n",
    "    if color_scheme == 1: # Actual corners - blue ones\n",
    "        box_color = (0,0,255)\n",
    "        dog_color = (0,0,153)\n",
    "    else: # Predicted corners - predicted green ones\n",
    "        box_color = (102,204,0)\n",
    "        dog_color = (51,102,0)\n",
    "\n",
    "    # Plot the rotation and the mean\n",
    "    for j in range(2):\n",
    "        curr_obs_pos = curr_pos[j*3:(j+1)*3]\n",
    "        curr_mean = (int(curr_obs_pos[0]), int(curr_obs_pos[1]))\n",
    "        curr_rot = curr_obs_pos[2]\n",
    "\n",
    "        line_len = 50\n",
    "        curr_end_point = (int(curr_mean[0] + np.cos(curr_rot) * line_len),\n",
    "                          int(curr_mean[1] - np.sin(curr_rot) * line_len)) # (y starts from top left corner)\n",
    "\n",
    "        if j == 0: # Show the box position\n",
    "            if use_frame_axis:\n",
    "                frame_axis = cv2.line(frame_axis.copy(), curr_mean, curr_end_point,\n",
    "                                      color=box_color, thickness=3)\n",
    "            else:\n",
    "                frame_axis = cv2.line(blank_image.copy(), curr_mean, curr_end_point,\n",
    "                                      color=box_color, thickness=3)\n",
    "\n",
    "        else: # We will already have a frame axis given - show the dog position\n",
    "            frame_axis = cv2.line(frame_axis.copy(), curr_mean, curr_end_point,\n",
    "                                  color=dog_color, thickness=3)\n",
    "\n",
    "    if plot_action:\n",
    "        frame_axis = plot_actions(actions, frame_axis)\n",
    "\n",
    "    img.set_array(frame_axis)\n",
    "    ax.plot()\n",
    "\n",
    "    return img, frame_axis\n"
   ]
  },
  {
   "cell_type": "code",
   "execution_count": 48,
   "metadata": {},
   "outputs": [],
   "source": [
    "curr_pos_mean_rot = pos_mean_rot[0]"
   ]
  },
  {
   "cell_type": "code",
   "execution_count": 49,
   "metadata": {},
   "outputs": [
    {
     "name": "stdout",
     "output_type": "stream",
     "text": [
      "(array([222.        , 356.25      ,  -2.94419709,  51.25      ,\n",
      "       592.75      ,  -1.81096733]), array([222.        , 356.25      ,  -2.94419709,  65.75      ,\n",
      "       569.5       ,  -1.77619172]), (0.15000000596046448, 0.0))\n"
     ]
    }
   ],
   "source": [
    "print(curr_pos_mean_rot)"
   ]
  },
  {
   "cell_type": "code",
   "execution_count": 50,
   "metadata": {},
   "outputs": [],
   "source": [
    "\n",
    "ncols = 10\n",
    "nrows = 5\n",
    "# print(N, ncols)\n",
    "fig, axs = plt.subplots(figsize=(ncols*10,nrows*10), nrows=nrows, ncols=ncols) # Draw the predicted action\n",
    "\n",
    "for i in range(50):\n",
    "    axs_row = int(i / ncols)\n",
    "    axs_col = int(i % ncols)\n",
    "\n",
    "    curr_pos_mean_rot = pos_mean_rot[i]\n",
    "\n",
    "    _, frame_axis = plot_mean_rot(axs[axs_row, axs_col], curr_pos_mean_rot[0], color_scheme=1)\n",
    "    plot_mean_rot(axs[axs_row, axs_col], curr_pos_mean_rot[1], use_frame_axis=True, frame_axis=frame_axis, color_scheme=2)\n",
    "\n",
    "plt.savefig('plot_mean_rot_ex.png')"
   ]
  },
  {
   "cell_type": "code",
   "execution_count": null,
   "metadata": {},
   "outputs": [],
   "source": []
  }
 ],
 "metadata": {
  "kernelspec": {
   "display_name": "Python 3.9.13 ('dawge')",
   "language": "python",
   "name": "python3"
  },
  "language_info": {
   "codemirror_mode": {
    "name": "ipython",
    "version": 3
   },
   "file_extension": ".py",
   "mimetype": "text/x-python",
   "name": "python",
   "nbconvert_exporter": "python",
   "pygments_lexer": "ipython3",
   "version": "3.9.13"
  },
  "orig_nbformat": 4,
  "vscode": {
   "interpreter": {
    "hash": "c54392799b1ea06a5d9c28f64f7b4d3d25501cf92ff871f812783b9868cdd9b5"
   }
  }
 },
 "nbformat": 4,
 "nbformat_minor": 2
}
