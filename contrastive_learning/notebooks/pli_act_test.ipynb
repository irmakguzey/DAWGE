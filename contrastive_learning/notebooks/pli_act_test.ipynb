{
 "cells": [
  {
   "cell_type": "code",
   "execution_count": 1,
   "id": "0026448e",
   "metadata": {},
   "outputs": [],
   "source": [
    "import numpy as np\n",
    "import math\n",
    "import matplotlib.pyplot as plt\n",
    "import matplotlib.patches as patches\n",
    "import os\n",
    "import torch\n",
    "import torch.utils.data as data \n",
    "\n",
    "from omegaconf import OmegaConf\n",
    "from torchvision import transforms\n",
    "from torch.nn.parallel import DistributedDataParallel as DDP\n",
    "# \n",
    "from contrastive_learning.tests.test_model import load_lin_model, predict_traj_actions\n",
    "from contrastive_learning.tests.animate_markers import AnimateMarkers\n",
    "from contrastive_learning.datasets.dataloaders import get_dataloaders\n",
    "\n",
    "from contrastive_learning.models.custom_models import LinearInverse"
   ]
  },
  {
   "cell_type": "markdown",
   "id": "2cf73928",
   "metadata": {},
   "source": [
    "### Model Loading\n",
    "Create the distributed group\n",
    "Load the linear inverse model from the saved path"
   ]
  },
  {
   "cell_type": "code",
   "execution_count": 3,
   "id": "d4680bfa",
   "metadata": {},
   "outputs": [],
   "source": [
    "# Start the multiprocessing to load the saved models properly\n",
    "os.environ[\"MASTER_ADDR\"] = \"localhost\"\n",
    "os.environ[\"MASTER_PORT\"] = \"29504\"\n",
    "\n",
    "torch.distributed.init_process_group(backend='gloo', rank=0, world_size=1)\n",
    "torch.cuda.set_device(0)"
   ]
  },
  {
   "cell_type": "code",
   "execution_count": 6,
   "id": "468aec54",
   "metadata": {},
   "outputs": [],
   "source": [
    "# Set the device and out_dir\n",
    "device = torch.device('cuda:0')\n",
    "out_dir = '/home/irmak/Workspace/DAWGE/contrastive_learning/out/2022.07.15/19-57_pli'\n",
    "cfg = OmegaConf.load(os.path.join(out_dir, '.hydra/config.yaml'))\n",
    "model_path = os.path.join(out_dir, 'models/lin_model.pt')\n",
    "\n",
    "cfg.pos_type = 'corners'\n",
    "cfg.frame_interval = 1\n",
    "\n",
    "# Load the encoder\n",
    "lin_model = load_lin_model(cfg, device, model_path)"
   ]
  },
  {
   "cell_type": "code",
   "execution_count": 5,
   "id": "723ae6c2",
   "metadata": {},
   "outputs": [
    {
     "name": "stdout",
     "output_type": "stream",
     "text": [
      "DistributedDataParallel(\n",
      "  (module): LinearInverse(\n",
      "    (model): Sequential(\n",
      "      (0): Linear(in_features=32, out_features=64, bias=True)\n",
      "      (1): ReLU()\n",
      "      (2): Linear(in_features=64, out_features=16, bias=True)\n",
      "      (3): ReLU()\n",
      "      (4): Linear(in_features=16, out_features=2, bias=True)\n",
      "    )\n",
      "  )\n",
      ")\n"
     ]
    }
   ],
   "source": [
    "print(lin_model) - "
   ]
  },
  {
   "cell_type": "markdown",
   "id": "cd219171",
   "metadata": {},
   "source": [
    "### Load few test demos\n",
    "* We need to try out the model in completely new test demos\n",
    "* Create a new dataset with test box_markers \n",
    "* At each step apply the inverse model for the next step in a demo\n",
    "* Start of the demo will be from the same position"
   ]
  },
  {
   "cell_type": "code",
   "execution_count": 1,
   "id": "071eeaa6",
   "metadata": {},
   "outputs": [
    {
     "ename": "NameError",
     "evalue": "name 'StateDataset' is not defined",
     "output_type": "error",
     "traceback": [
      "\u001b[0;31m---------------------------------------------------------------------------\u001b[0m",
      "\u001b[0;31mNameError\u001b[0m                                 Traceback (most recent call last)",
      "Input \u001b[0;32mIn [1]\u001b[0m, in \u001b[0;36m<cell line: 2>\u001b[0;34m()\u001b[0m\n\u001b[1;32m      1\u001b[0m test_demos_data_dir \u001b[38;5;241m=\u001b[39m \u001b[38;5;124m'\u001b[39m\u001b[38;5;124m/home/irmak/Workspace/DAWGE/src/dawge_planner/data/test_demos\u001b[39m\u001b[38;5;124m'\u001b[39m \u001b[38;5;66;03m# For now we just have demo 35 inside\u001b[39;00m\n\u001b[0;32m----> 2\u001b[0m dataset \u001b[38;5;241m=\u001b[39m \u001b[43mStateDataset\u001b[49m(cfg)\n\u001b[1;32m      3\u001b[0m data_loader \u001b[38;5;241m=\u001b[39m data\u001b[38;5;241m.\u001b[39mDataLoader(dataset, batch_size\u001b[38;5;241m=\u001b[39m\u001b[38;5;241m1\u001b[39m, shuffle\u001b[38;5;241m=\u001b[39m\u001b[38;5;28;01mFalse\u001b[39;00m, num_workers\u001b[38;5;241m=\u001b[39m\u001b[38;5;241m4\u001b[39m)\n\u001b[1;32m      5\u001b[0m \u001b[38;5;28;01mfor\u001b[39;00m i,batch \u001b[38;5;129;01min\u001b[39;00m data_loader:\n",
      "\u001b[0;31mNameError\u001b[0m: name 'StateDataset' is not defined"
     ]
    }
   ],
   "source": [
    "test_demos_data_dir = '/home/irmak/Workspace/DAWGE/src/dawge_planner/data/test_demos' # For now we just have demo 35 inside\n",
    "dataset = StateDataset(cfg)\n",
    "data_loader = data.DataLoader(dataset, batch_size=1, shuffle=False, num_workers=4)\n",
    "\n",
    "for i,batch in data_loader:\n",
    "    demo_curr_pos, demo_next_pos, _ = [b.to(device) for b in batch]\n",
    "    act_curr_pos = get_act_curr_pos().to(device) # TODO - should be normalized and everything\n",
    "    pred_action = lin_model(act_curr_pos, demo_next_pos)\n",
    "    "
   ]
  },
  {
   "cell_type": "code",
   "execution_count": null,
   "id": "8e8c6fb3",
   "metadata": {},
   "outputs": [],
   "source": []
  }
 ],
 "metadata": {
  "kernelspec": {
   "display_name": "dawge",
   "language": "python",
   "name": "dawge"
  },
  "language_info": {
   "codemirror_mode": {
    "name": "ipython",
    "version": 3
   },
   "file_extension": ".py",
   "mimetype": "text/x-python",
   "name": "python",
   "nbconvert_exporter": "python",
   "pygments_lexer": "ipython3",
   "version": "3.9.13"
  }
 },
 "nbformat": 4,
 "nbformat_minor": 5
}
