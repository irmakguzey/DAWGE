{
 "cells": [
  {
   "cell_type": "markdown",
   "id": "a40e4c64",
   "metadata": {},
   "source": [
    "### PLI + SBFD Test with ROT loss\n",
    "Script to test both the inverse model and the dynamics model.\n",
    "These two models could be trained separately and then finetuned.\n",
    "Steps are as follows:\n",
    "1. Load both of the models\n",
    "2. At each step sample an action using gaussian distribution with mean and std of the action space\n",
    "3. Predict the next state using SBFD model\n",
    "4. Calculate the best next state using OT rewards\n",
    "5. Apply the action to go to that best next state (use the predicted action not the sampled action)"
   ]
  },
  {
   "cell_type": "code",
   "execution_count": null,
   "id": "aae9918c",
   "metadata": {},
   "outputs": [],
   "source": []
  }
 ],
 "metadata": {
  "kernelspec": {
   "display_name": "dawge",
   "language": "python",
   "name": "dawge"
  },
  "language_info": {
   "codemirror_mode": {
    "name": "ipython",
    "version": 3
   },
   "file_extension": ".py",
   "mimetype": "text/x-python",
   "name": "python",
   "nbconvert_exporter": "python",
   "pygments_lexer": "ipython3",
   "version": "3.9.13"
  }
 },
 "nbformat": 4,
 "nbformat_minor": 5
}
