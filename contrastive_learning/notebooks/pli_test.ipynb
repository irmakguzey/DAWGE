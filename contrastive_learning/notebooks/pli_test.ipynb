{
 "cells": [
  {
   "cell_type": "code",
   "execution_count": 1,
   "metadata": {},
   "outputs": [],
   "source": [
    "import numpy as np\n",
    "import matplotlib.pyplot as plt\n",
    "import os\n",
    "import torch\n",
    "import torch.utils.data as data \n",
    "\n",
    "from omegaconf import OmegaConf\n",
    "from torchvision import transforms\n",
    "from torch.nn.parallel import DistributedDataParallel as DDP\n",
    "# \n",
    "from contrastive_learning.tests.test_model import load_lin_model\n",
    "from contrastive_learning.models.custom_models import LinearInverse\n",
    "from contrastive_learning.datasets.pli_dataset import Dataset, get_dataloaders"
   ]
  },
  {
   "cell_type": "code",
   "execution_count": 2,
   "metadata": {},
   "outputs": [],
   "source": [
    "# Start the multiprocessing to load the saved models properly\n",
    "os.environ[\"MASTER_ADDR\"] = \"localhost\"\n",
    "os.environ[\"MASTER_PORT\"] = \"29503\"\n",
    "\n",
    "torch.distributed.init_process_group(backend='gloo', rank=0, world_size=1)\n",
    "torch.cuda.set_device(0)"
   ]
  },
  {
   "cell_type": "code",
   "execution_count": 3,
   "metadata": {},
   "outputs": [],
   "source": [
    "# Set the device and out_dir\n",
    "device = torch.device('cuda:0')\n",
    "out_dir = '/home/irmak/Workspace/DAWGE/contrastive_learning/out/2022.07.15/11-36_pli'\n",
    "cfg = OmegaConf.load('/home/irmak/Workspace/DAWGE/contrastive_learning/configs/pli_train.yaml')\n",
    "model_path = os.path.join(out_dir, 'models/lin_model.pt')\n",
    "\n",
    "# Load the encoder\n",
    "lin_model = load_lin_model(cfg, device, model_path)"
   ]
  },
  {
   "cell_type": "code",
   "execution_count": 4,
   "metadata": {},
   "outputs": [
    {
     "name": "stdout",
     "output_type": "stream",
     "text": [
      "DistributedDataParallel(\n",
      "  (module): LinearInverse(\n",
      "    (model): Sequential(\n",
      "      (0): Linear(in_features=32, out_features=64, bias=True)\n",
      "      (1): ReLU()\n",
      "      (2): Linear(in_features=64, out_features=64, bias=True)\n",
      "      (3): ReLU()\n",
      "      (4): Linear(in_features=64, out_features=2, bias=True)\n",
      "    )\n",
      "  )\n",
      ")\n"
     ]
    }
   ],
   "source": [
    "print(lin_model)"
   ]
  },
  {
   "cell_type": "code",
   "execution_count": 5,
   "metadata": {},
   "outputs": [],
   "source": [
    "# Get the dataloaders and compare the actions\n",
    "train_loader, test_loader, dataset = get_dataloaders(cfg)"
   ]
  },
  {
   "cell_type": "code",
   "execution_count": 14,
   "metadata": {},
   "outputs": [
    {
     "name": "stdout",
     "output_type": "stream",
     "text": [
      "Actual Action \t Predicted Action\n",
      "[-0.   -0.23], \t[-0.05872796 -0.34057811]\n",
      "[-0.   -0.23], \t[ 0.11609759 -0.01396022]\n",
      "[-0.   -0.23], \t[ 0.01402901 -0.20464988]\n",
      "[0.15 0.05], \t[0.14767949 0.04504267]\n",
      "[0.15 0.05], \t[0.15712533 0.06268985]\n",
      "[0.15 0.05], \t[0.15374675 0.05637783]\n",
      "[0.15 0.05], \t[-0.02441072 -0.27646492]\n",
      "[0.15 0.05], \t[ 0.08207919 -0.0775151 ]\n",
      "[0.15 0.05], \t[0.12573274 0.00404065]\n",
      "[-0.   -0.23], \t[-0.01717921 -0.26295464]\n",
      "[0.15 0.05], \t[0.14708777 0.04393718]\n",
      "[0.15 0.05], \t[0.1514471  0.05208152]\n",
      "[0.15 0.05], \t[0.1402964  0.03124922]\n",
      "[0.15 0.05], \t[0.14984275 0.04908419]\n",
      "[0.15 0.05], \t[0.14277234 0.03587489]\n",
      "[-0.   -0.23], \t[ 0.10006954 -0.04390463]\n",
      "[-0.   -0.23], \t[-0.00229181 -0.23514125]\n",
      "[0.15 0.05], \t[0.14354785 0.03732373]\n",
      "[0.15 0.05], \t[0.13249231 0.01666921]\n",
      "[0.15 0.05], \t[0.15323466 0.05542113]\n",
      "[0.15 0.05], \t[0.14871982 0.04698627]\n",
      "[-0.   -0.23], \t[0.13835142 0.02761549]\n",
      "[-0.   -0.23], \t[ 0.09222337 -0.05856324]\n",
      "[0.15 0.05], \t[ 0.11881468 -0.00888402]\n",
      "[-0.   -0.23], \t[ 0.07210583 -0.09614785]\n",
      "[-0.   -0.23], \t[ 0.0558666  -0.12648678]\n",
      "[0.15 0.05], \t[ 0.12214418 -0.00266367]\n",
      "[0.15 0.05], \t[0.14920058 0.04788445]\n",
      "[0.15 0.05], \t[ 0.11982485 -0.00699677]\n",
      "[-0.15 -0.51], \t[-0.09799122 -0.41393169]\n",
      "[0.15 0.05], \t[0.14314318 0.03656771]\n",
      "[0.15 0.05], \t[0.1436651  0.03754279]\n",
      "[-0.   -0.23], \t[ 0.05860283 -0.12137483]\n",
      "[0.15 0.05], \t[0.12843067 0.00908106]\n",
      "[-0.   -0.23], \t[-0.05686992 -0.33710683]\n",
      "[0.15 0.05], \t[0.12898116 0.01010951]\n",
      "[0.15 0.05], \t[0.13421519 0.01988799]\n",
      "[0.15 0.05], \t[0.14428493 0.03870079]\n",
      "[0.15 0.05], \t[0.13194743 0.01565125]\n",
      "[0.15 0.05], \t[0.12779041 0.00788489]\n",
      "[0.15 0.05], \t[ 0.12159486 -0.00368996]\n",
      "[0.15 0.05], \t[0.13266684 0.01699529]\n",
      "[-0.   -0.23], \t[-0.00426048 -0.23881922]\n",
      "[0.15 0.05], \t[0.15047401 0.05026354]\n",
      "[0.15 0.05], \t[0.14553619 0.04103845]\n",
      "[0.15 0.05], \t[0.14553494 0.04103612]\n",
      "[0.15 0.05], \t[ 0.01716223 -0.19879625]\n",
      "[0.15 0.05], \t[0.12924335 0.01059935]\n",
      "[0.15 0.05], \t[0.15049091 0.0502951 ]\n",
      "[0.15 0.05], \t[0.14843669 0.04645731]\n",
      "[-0.   -0.23], \t[ 0.09644282 -0.05068025]\n",
      "[0.15 0.05], \t[0.14368483 0.03757965]\n",
      "[-0.   -0.23], \t[ 0.02074389 -0.19210481]\n",
      "[-0.   -0.23], \t[ 0.1206303  -0.00549199]\n",
      "[0.15 0.05], \t[0.14948957 0.04842436]\n",
      "[0.15 0.05], \t[0.1503737  0.05007613]\n",
      "[-0.   -0.23], \t[ 0.05140585 -0.13482058]\n",
      "[0.15 0.05], \t[0.14355393 0.03733509]\n",
      "[0.15 0.05], \t[0.14706479 0.04389427]\n",
      "[0.15 0.05], \t[0.1562304  0.06101791]\n",
      "[0.15 0.05], \t[0.13429509 0.02003726]\n",
      "[0.15 0.05], \t[0.146222   0.04231972]\n",
      "[0.15 0.05], \t[0.15212882 0.05335514]\n",
      "[0.15 0.05], \t[ 0.05434666 -0.12932642]\n"
     ]
    }
   ],
   "source": [
    "for batch in test_loader:\n",
    "    curr_pos, next_pos, action = [b.to(device) for b in batch]\n",
    "    pred_action = lin_model(curr_pos, next_pos)\n",
    "    \n",
    "    print('Actual Action \\t Predicted Action')\n",
    "    for i in range(len(action)):\n",
    "        print('{}, \\t{}'.format(np.around(dataset.denormalize_action(action[i][0].cpu().detach().numpy()), 2),\n",
    "                                                               dataset.denormalize_action(pred_action[i][0].cpu().detach().numpy())))\n",
    "    \n",
    "    break"
   ]
  },
  {
   "cell_type": "code",
   "execution_count": null,
   "metadata": {},
   "outputs": [],
   "source": []
  }
 ],
 "metadata": {
  "kernelspec": {
   "display_name": "dawge",
   "language": "python",
   "name": "dawge"
  },
  "language_info": {
   "codemirror_mode": {
    "name": "ipython",
    "version": 3
   },
   "file_extension": ".py",
   "mimetype": "text/x-python",
   "name": "python",
   "nbconvert_exporter": "python",
   "pygments_lexer": "ipython3",
   "version": "3.9.13"
  },
  "vscode": {
   "interpreter": {
    "hash": "c54392799b1ea06a5d9c28f64f7b4d3d25501cf92ff871f812783b9868cdd9b5"
   }
  }
 },
 "nbformat": 4,
 "nbformat_minor": 2
}
